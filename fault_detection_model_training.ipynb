{
  "nbformat": 4,
  "nbformat_minor": 0,
  "metadata": {
    "colab": {
      "provenance": []
    },
    "kernelspec": {
      "name": "python3",
      "display_name": "Python 3"
    },
    "language_info": {
      "name": "python"
    }
  },
  "cells": [
    {
      "cell_type": "code",
      "source": [
        "import pandas as pd\n",
        "import numpy as np\n",
        "import tensorflow as tf\n",
        "from sklearn.model_selection import train_test_split\n",
        "from sklearn.ensemble import RandomForestClassifier\n",
        "from sklearn.metrics import accuracy_score, classification_report\n",
        "import time\n",
        "import sys\n",
        "import matplotlib.pyplot as plt\n",
        "\n",
        "# Load your dataset (assuming it's already cleaned and saved in a CSV)\n",
        "binary_data = pd.read_csv('/content/detect_dataset.csv')\n",
        "\n",
        "# Dataset Info\n",
        "print(binary_data.info())\n",
        "\n",
        "print(f'Number of Samples: {binary_data.shape[0]}\\nNumber of Features: {binary_data.shape[1]}')\n",
        "\n",
        "# Plot target variable distribution\n",
        "plt.pie(x=binary_data['Output (S)'].value_counts(), labels=['No Fault', 'Fault'],\n",
        "        explode=[0, 0.2], autopct='%1.1f%%', labeldistance=1.15,\n",
        "        colors=['#0c06c7', '#05daed'])\n",
        "plt.title(\"Composition of Target Variable\")\n",
        "plt.show()\n",
        "\n",
        "\n",
        "# Split dataset into features (X) and target (y)\n",
        "X = binary_data.iloc[:, 1:7]  # Input features (Ia, Ib, Ic, Va, Vb, Vc)\n",
        "y = binary_data.iloc[:, 0]  # Output label (Fault or No Fault)\n",
        "print(X)\n",
        "print(y)\n",
        "\n",
        "\n"
      ],
      "metadata": {
        "colab": {
          "base_uri": "https://localhost:8080/",
          "height": 1000
        },
        "id": "zSYHrH0b5UsP",
        "outputId": "b4208b8e-0ba1-471a-e657-ce21101e37d7"
      },
      "execution_count": null,
      "outputs": [
        {
          "output_type": "stream",
          "name": "stdout",
          "text": [
            "<class 'pandas.core.frame.DataFrame'>\n",
            "RangeIndex: 12001 entries, 0 to 12000\n",
            "Data columns (total 9 columns):\n",
            " #   Column      Non-Null Count  Dtype  \n",
            "---  ------      --------------  -----  \n",
            " 0   Output (S)  12001 non-null  int64  \n",
            " 1   Ia          12001 non-null  float64\n",
            " 2   Ib          12001 non-null  float64\n",
            " 3   Ic          12001 non-null  float64\n",
            " 4   Va          12001 non-null  float64\n",
            " 5   Vb          12001 non-null  float64\n",
            " 6   Vc          12001 non-null  float64\n",
            " 7   Unnamed: 7  0 non-null      float64\n",
            " 8   Unnamed: 8  0 non-null      float64\n",
            "dtypes: float64(8), int64(1)\n",
            "memory usage: 843.9 KB\n",
            "None\n",
            "Number of Samples: 12001\n",
            "Number of Features: 9\n"
          ]
        },
        {
          "output_type": "display_data",
          "data": {
            "text/plain": [
              "<Figure size 640x480 with 1 Axes>"
            ],
            "image/png": "[encoded data removed]"
          },
          "metadata": {}
        },
        {
          "output_type": "stream",
          "name": "stdout",
          "text": [
            "               Ia         Ib          Ic        Va        Vb        Vc\n",
            "0     -170.472196   9.219613  161.252583  0.054490 -0.659921  0.605431\n",
            "1     -122.235754   6.168667  116.067087  0.102000 -0.628612  0.526202\n",
            "2      -90.161474   3.813632   86.347841  0.141026 -0.605277  0.464251\n",
            "3      -79.904916   2.398803   77.506112  0.156272 -0.602235  0.445963\n",
            "4      -63.885255   0.590667   63.294587  0.180451 -0.591501  0.411050\n",
            "...           ...        ...         ...       ...       ...       ...\n",
            "11996  -66.237921  38.457041   24.912239  0.094421 -0.552019  0.457598\n",
            "11997  -65.849493  37.465454   25.515675  0.103778 -0.555186  0.451407\n",
            "11998  -65.446698  36.472055   26.106554  0.113107 -0.558211  0.445104\n",
            "11999  -65.029633  35.477088   26.684731  0.122404 -0.561094  0.438690\n",
            "12000  -64.598401  34.480799   27.250065  0.131669 -0.563835  0.432166\n",
            "\n",
            "[12001 rows x 6 columns]\n",
            "0        0\n",
            "1        0\n",
            "2        0\n",
            "3        0\n",
            "4        0\n",
            "        ..\n",
            "11996    0\n",
            "11997    0\n",
            "11998    0\n",
            "11999    0\n",
            "12000    0\n",
            "Name: Output (S), Length: 12001, dtype: int64\n"
          ]
        }
      ]
    },
    {
      "cell_type": "code",
      "source": [
        "# Train-test split\n",
        "X_train, X_test, y_train, y_test = train_test_split(X, y, test_size=0.2, random_state=42)\n",
        "\n",
        "# Layer1 with 24 and Layer2 with 16 nodes is better than 16 and 24 respectively.\n",
        "DENSE1_SIZE = 22\n",
        "DENSE2_SIZE = 16\n",
        "DENSE3_SIZE = 8\n",
        "NUM_OF_EPOCHS = 20\n",
        "BATCH_SIZE = 12\n",
        "\n",
        "model = tf.keras.Sequential()\n",
        "input_shape = X.shape[1]\n",
        "print(input_shape)\n",
        "model.add(tf.keras.layers.Flatten(input_shape =(input_shape,)))\n",
        "model.add(tf.keras.layers.Dense(DENSE1_SIZE, activation='relu'))\n",
        "model.add(tf.keras.layers.Dense(DENSE2_SIZE, activation='relu'))\n",
        "model.add(tf.keras.layers.Dense(DENSE3_SIZE, activation='relu'))\n",
        "# Output labels: 0 / 1\n",
        "\n",
        "\n",
        "model.add(tf.keras.layers.Dense(1, activation='sigmoid'))\n",
        "\n",
        "model.compile(loss='binary_crossentropy', optimizer='adam', metrics=['acc'])\n",
        "\n",
        "history = model.fit(X_train, y_train, batch_size=BATCH_SIZE,\n",
        "                    epochs=NUM_OF_EPOCHS,\n",
        "                    verbose=1, validation_split=0.22)\n",
        "\n",
        "score = model.evaluate(X_test, y_test, verbose=1)\n",
        "\n",
        "print(\"Test Score:\", score[0])\n",
        "print(\"Test Accuracy:\",score[1])\n",
        "\n",
        "# Save the Keras model in .h5 format\n",
        "model.save('fault_detection_model.h5')\n",
        "\n",
        "\n",
        "# Convert the model to TensorFlow Lite format (with optimization for size)\n",
        "def representative_dataset():\n",
        "    for _ in range(100):\n",
        "        yield [X_test.astype(np.float32)]\n",
        "\n",
        "converter = tf.lite.TFLiteConverter.from_keras_model(model)\n",
        "# converter.optimizations = [tf.lite.Optimize.DEFAULT]\n",
        "converter.representative_dataset = representative_dataset\n",
        "tflite_model = converter.convert()\n",
        "# Save the TensorFlow Lite model to a file\n",
        "with open('fault_detection_model.tflite', 'wb') as f:\n",
        "    f.write(tflite_model)\n"
      ],
      "metadata": {
        "colab": {
          "base_uri": "https://localhost:8080/"
        },
        "id": "8L9cRa8RNfh4",
        "outputId": "43bfdf26-8bd1-44b3-af0c-aac054132e23"
      },
      "execution_count": null,
      "outputs": [
        {
          "output_type": "stream",
          "name": "stdout",
          "text": [
            "6\n",
            "Epoch 1/20\n"
          ]
        },
        {
          "output_type": "stream",
          "name": "stderr",
          "text": [
            "/usr/local/lib/python3.10/dist-packages/keras/src/layers/reshaping/flatten.py:37: UserWarning: Do not pass an `input_shape`/`input_dim` argument to a layer. When using Sequential models, prefer using an `Input(shape)` object as the first layer in the model instead.\n",
            "  super().__init__(**kwargs)\n"
          ]
        },
        {
          "output_type": "stream",
          "name": "stdout",
          "text": [
            "\u001b[1m624/624\u001b[0m \u001b[32m━━━━━━━━━━━━━━━━━━━━\u001b[0m\u001b[37m\u001b[0m \u001b[1m3s\u001b[0m 2ms/step - acc: 0.6671 - loss: 1.7033 - val_acc: 0.9190 - val_loss: 0.2132\n",
            "Epoch 2/20\n",
            "\u001b[1m624/624\u001b[0m \u001b[32m━━━━━━━━━━━━━━━━━━━━\u001b[0m\u001b[37m\u001b[0m \u001b[1m2s\u001b[0m 2ms/step - acc: 0.9660 - loss: 0.1461 - val_acc: 0.9834 - val_loss: 0.0854\n",
            "Epoch 3/20\n",
            "\u001b[1m624/624\u001b[0m \u001b[32m━━━━━━━━━━━━━━━━━━━━\u001b[0m\u001b[37m\u001b[0m \u001b[1m2s\u001b[0m 2ms/step - acc: 0.9854 - loss: 0.0803 - val_acc: 0.9863 - val_loss: 0.0631\n",
            "Epoch 4/20\n",
            "\u001b[1m624/624\u001b[0m \u001b[32m━━━━━━━━━━━━━━━━━━━━\u001b[0m\u001b[37m\u001b[0m \u001b[1m1s\u001b[0m 2ms/step - acc: 0.9879 - loss: 0.0551 - val_acc: 0.9877 - val_loss: 0.0595\n",
            "Epoch 5/20\n",
            "\u001b[1m624/624\u001b[0m \u001b[32m━━━━━━━━━━━━━━━━━━━━\u001b[0m\u001b[37m\u001b[0m \u001b[1m4s\u001b[0m 4ms/step - acc: 0.9698 - loss: 0.0975 - val_acc: 0.9872 - val_loss: 0.0513\n",
            "Epoch 6/20\n",
            "\u001b[1m624/624\u001b[0m \u001b[32m━━━━━━━━━━━━━━━━━━━━\u001b[0m\u001b[37m\u001b[0m \u001b[1m1s\u001b[0m 2ms/step - acc: 0.9906 - loss: 0.0416 - val_acc: 0.9886 - val_loss: 0.0488\n",
            "Epoch 7/20\n",
            "\u001b[1m624/624\u001b[0m \u001b[32m━━━━━━━━━━━━━━━━━━━━\u001b[0m\u001b[37m\u001b[0m \u001b[1m1s\u001b[0m 2ms/step - acc: 0.9895 - loss: 0.0460 - val_acc: 0.9877 - val_loss: 0.0504\n",
            "Epoch 8/20\n",
            "\u001b[1m624/624\u001b[0m \u001b[32m━━━━━━━━━━━━━━━━━━━━\u001b[0m\u001b[37m\u001b[0m \u001b[1m1s\u001b[0m 2ms/step - acc: 0.9881 - loss: 0.0444 - val_acc: 0.9877 - val_loss: 0.0893\n",
            "Epoch 9/20\n",
            "\u001b[1m624/624\u001b[0m \u001b[32m━━━━━━━━━━━━━━━━━━━━\u001b[0m\u001b[37m\u001b[0m \u001b[1m1s\u001b[0m 2ms/step - acc: 0.9667 - loss: 0.1076 - val_acc: 0.9891 - val_loss: 0.0566\n",
            "Epoch 10/20\n",
            "\u001b[1m624/624\u001b[0m \u001b[32m━━━━━━━━━━━━━━━━━━━━\u001b[0m\u001b[37m\u001b[0m \u001b[1m1s\u001b[0m 2ms/step - acc: 0.9902 - loss: 0.0399 - val_acc: 0.9877 - val_loss: 0.0435\n",
            "Epoch 11/20\n",
            "\u001b[1m624/624\u001b[0m \u001b[32m━━━━━━━━━━━━━━━━━━━━\u001b[0m\u001b[37m\u001b[0m \u001b[1m1s\u001b[0m 2ms/step - acc: 0.9915 - loss: 0.0337 - val_acc: 0.9896 - val_loss: 0.0504\n",
            "Epoch 12/20\n",
            "\u001b[1m624/624\u001b[0m \u001b[32m━━━━━━━━━━━━━━━━━━━━\u001b[0m\u001b[37m\u001b[0m \u001b[1m1s\u001b[0m 2ms/step - acc: 0.9922 - loss: 0.0335 - val_acc: 0.9915 - val_loss: 0.0452\n",
            "Epoch 13/20\n",
            "\u001b[1m624/624\u001b[0m \u001b[32m━━━━━━━━━━━━━━━━━━━━\u001b[0m\u001b[37m\u001b[0m \u001b[1m1s\u001b[0m 2ms/step - acc: 0.9892 - loss: 0.0411 - val_acc: 0.9905 - val_loss: 0.0645\n",
            "Epoch 14/20\n",
            "\u001b[1m624/624\u001b[0m \u001b[32m━━━━━━━━━━━━━━━━━━━━\u001b[0m\u001b[37m\u001b[0m \u001b[1m2s\u001b[0m 3ms/step - acc: 0.9919 - loss: 0.0332 - val_acc: 0.9915 - val_loss: 0.0473\n",
            "Epoch 15/20\n",
            "\u001b[1m624/624\u001b[0m \u001b[32m━━━━━━━━━━━━━━━━━━━━\u001b[0m\u001b[37m\u001b[0m \u001b[1m2s\u001b[0m 2ms/step - acc: 0.9931 - loss: 0.0261 - val_acc: 0.9896 - val_loss: 0.0408\n",
            "Epoch 16/20\n",
            "\u001b[1m624/624\u001b[0m \u001b[32m━━━━━━━━━━━━━━━━━━━━\u001b[0m\u001b[37m\u001b[0m \u001b[1m1s\u001b[0m 2ms/step - acc: 0.9902 - loss: 0.0343 - val_acc: 0.9706 - val_loss: 0.0885\n",
            "Epoch 17/20\n",
            "\u001b[1m624/624\u001b[0m \u001b[32m━━━━━━━━━━━━━━━━━━━━\u001b[0m\u001b[37m\u001b[0m \u001b[1m1s\u001b[0m 2ms/step - acc: 0.9883 - loss: 0.0394 - val_acc: 0.9910 - val_loss: 0.0434\n",
            "Epoch 18/20\n",
            "\u001b[1m624/624\u001b[0m \u001b[32m━━━━━━━━━━━━━━━━━━━━\u001b[0m\u001b[37m\u001b[0m \u001b[1m1s\u001b[0m 2ms/step - acc: 0.9890 - loss: 0.0392 - val_acc: 0.9910 - val_loss: 0.0428\n",
            "Epoch 19/20\n",
            "\u001b[1m624/624\u001b[0m \u001b[32m━━━━━━━━━━━━━━━━━━━━\u001b[0m\u001b[37m\u001b[0m \u001b[1m3s\u001b[0m 2ms/step - acc: 0.9937 - loss: 0.0252 - val_acc: 0.9910 - val_loss: 0.0468\n",
            "Epoch 20/20\n",
            "\u001b[1m624/624\u001b[0m \u001b[32m━━━━━━━━━━━━━━━━━━━━\u001b[0m\u001b[37m\u001b[0m \u001b[1m4s\u001b[0m 4ms/step - acc: 0.9941 - loss: 0.0208 - val_acc: 0.9915 - val_loss: 0.0393\n",
            "\u001b[1m76/76\u001b[0m \u001b[32m━━━━━━━━━━━━━━━━━━━━\u001b[0m\u001b[37m\u001b[0m \u001b[1m0s\u001b[0m 2ms/step - acc: 0.9910 - loss: 0.0363\n"
          ]
        },
        {
          "output_type": "stream",
          "name": "stderr",
          "text": [
            "WARNING:absl:You are saving your model as an HDF5 file via `model.save()` or `keras.saving.save_model(model)`. This file format is considered legacy. We recommend using instead the native Keras format, e.g. `model.save('my_model.keras')` or `keras.saving.save_model(model, 'my_model.keras')`. \n"
          ]
        },
        {
          "output_type": "stream",
          "name": "stdout",
          "text": [
            "Test Score: 0.03953345865011215\n",
            "Test Accuracy: 0.99208664894104\n",
            "Saved artifact at '/tmp/tmpfxblper5'. The following endpoints are available:\n",
            "\n",
            "* Endpoint 'serve'\n",
            "  args_0 (POSITIONAL_ONLY): TensorSpec(shape=(None, 6), dtype=tf.float32, name='keras_tensor_80')\n",
            "Output Type:\n",
            "  TensorSpec(shape=(None, 1), dtype=tf.float32, name=None)\n",
            "Captures:\n",
            "  137030700871424: TensorSpec(shape=(), dtype=tf.resource, name=None)\n",
            "  137030700873536: TensorSpec(shape=(), dtype=tf.resource, name=None)\n",
            "  137031359021648: TensorSpec(shape=(), dtype=tf.resource, name=None)\n",
            "  137030699950576: TensorSpec(shape=(), dtype=tf.resource, name=None)\n",
            "  137030881301376: TensorSpec(shape=(), dtype=tf.resource, name=None)\n",
            "  137031323224368: TensorSpec(shape=(), dtype=tf.resource, name=None)\n",
            "  137033190648016: TensorSpec(shape=(), dtype=tf.resource, name=None)\n",
            "  137033621486256: TensorSpec(shape=(), dtype=tf.resource, name=None)\n"
          ]
        }
      ]
    },
    {
      "cell_type": "code",
      "source": [
        "# for i in X.iloc[num]:\n",
        "#      print(i,end='f,')\n",
        "# print(\"\\n\", y[num])"
      ],
      "metadata": {
        "id": "WVW_eYxVfqRZ"
      },
      "execution_count": null,
      "outputs": []
    },
    {
      "cell_type": "code",
      "source": [
        "interpreter = tf.lite.Interpreter(model_path=\"/content/fault_detection_model.tflite\")\n",
        "interpreter.allocate_tensors()\n",
        "\n",
        "input_details = interpreter.get_input_details()\n",
        "output_details = interpreter.get_output_details()\n",
        "print('input_details:\\n', input_details)\n",
        "print('output_details:\\n', output_details)\n",
        "\n",
        "# Test the model on random input data.\n",
        "input_shape = input_details[0]['shape']\n",
        "\n",
        "input0_data = np.random.random_sample(input_shape)\n",
        "print(\"Input 0:\", input0_data)\n",
        "input0_data = np.array(input0_data, dtype=np.float32)\n",
        "interpreter.set_tensor(input_details[0]['index'], input0_data)\n",
        "\n",
        "interpreter.invoke()\n",
        "# The function get_tensor() returns a copy of the tensor data.\n",
        "# Use tensor() in order to get a pointer to the tensor.\n",
        "output0_data = interpreter.get_tensor(output_details[0]['index'])\n",
        "print(output0_data)\n",
        "\n",
        "# Verify if the same data is given to the original model what is the output\n",
        "output0_data = model.predict(input0_data)\n",
        "print(\"Predicted Output:\", output0_data)\n",
        "\n",
        "\n",
        "input1_data = [[63.1268571,\t-36.79144884,\t-26.33540826,\t0.184998712,\t0.407249466,\t-0.592248178]]\n",
        "print(\"\\nInput 1: \", input1_data)\n",
        "input1_data = np.array(input1_data, dtype=np.float32)\n",
        "interpreter.set_tensor(input_details[0]['index'], input1_data)\n",
        "\n",
        "interpreter.invoke()\n",
        "# The function get_tensor() returns a copy of the tensor data.\n",
        "# Use tensor() in order to get a pointer to the tensor.\n",
        "output1_data = interpreter.get_tensor(output_details[0]['index'])\n",
        "print('output1:')\n",
        "print(output1_data)\n",
        "\n",
        "# Verify if the same data is given to the original model what is the output\n",
        "output1_data = model.predict(input1_data)\n",
        "print(\"Predicted Output: \", output1_data)\n",
        "print(\"Actual Output: 0\")\n",
        "\n",
        "input2_data = [[76.66768555,\t-42.84653552,\t49.86195756,\t0.371593631,\t-0.584645936,\t0.213052305]]\n",
        "print(\"\\nInput 2:\", input2_data)\n",
        "input2_data = np.array(input2_data, dtype=np.float32)\n",
        "interpreter.set_tensor(input_details[0]['index'], tf.Variable(input2_data))\n",
        "\n",
        "interpreter.invoke()\n",
        "# The function get_tensor() returns a copy of the tensor data.\n",
        "# Use tensor() in order to get a pointer to the tensor.\n",
        "output2_data = interpreter.get_tensor(output_details[0]['index'])\n",
        "print('output2:')\n",
        "print(output2_data)\n",
        "\n",
        "# Verify if the same data is given to the original model what is the output\n",
        "output2_data = model.predict(input2_data)\n",
        "print(\"Predicted output:\", output2_data)\n",
        "print(\"Actual Output: 1\")\n"
      ],
      "metadata": {
        "colab": {
          "base_uri": "https://localhost:8080/"
        },
        "id": "LCw4QQIWUsVc",
        "outputId": "e02e0f1f-a505-426e-dbc3-df6d7e85745b"
      },
      "execution_count": null,
      "outputs": [
        {
          "output_type": "stream",
          "name": "stdout",
          "text": [
            "input_details:\n",
            " [{'name': 'serving_default_keras_tensor_80:0', 'index': 0, 'shape': array([1, 6], dtype=int32), 'shape_signature': array([-1,  6], dtype=int32), 'dtype': <class 'numpy.float32'>, 'quantization': (0.0, 0), 'quantization_parameters': {'scales': array([], dtype=float32), 'zero_points': array([], dtype=int32), 'quantized_dimension': 0}, 'sparsity_parameters': {}}]\n",
            "output_details:\n",
            " [{'name': 'StatefulPartitionedCall_1:0', 'index': 15, 'shape': array([1, 1], dtype=int32), 'shape_signature': array([-1,  1], dtype=int32), 'dtype': <class 'numpy.float32'>, 'quantization': (0.0, 0), 'quantization_parameters': {'scales': array([], dtype=float32), 'zero_points': array([], dtype=int32), 'quantized_dimension': 0}, 'sparsity_parameters': {}}]\n",
            "Input 0: [[0.66574981 0.2521878  0.3712827  0.46559229 0.82933686 0.29592419]]\n",
            "[[0.02610093]]\n",
            "\u001b[1m1/1\u001b[0m \u001b[32m━━━━━━━━━━━━━━━━━━━━\u001b[0m\u001b[37m\u001b[0m \u001b[1m0s\u001b[0m 27ms/step\n",
            "Predicted Output: [[0.02610094]]\n",
            "\n",
            "Input 1:  [[63.1268571, -36.79144884, -26.33540826, 0.184998712, 0.407249466, -0.592248178]]\n",
            "output1:\n",
            "[[0.01587691]]\n",
            "\u001b[1m1/1\u001b[0m \u001b[32m━━━━━━━━━━━━━━━━━━━━\u001b[0m\u001b[37m\u001b[0m \u001b[1m0s\u001b[0m 22ms/step\n",
            "Predicted Output:  [[0.01587691]]\n",
            "Actual Output: 0\n",
            "\n",
            "Input 2: [[76.66768555, -42.84653552, 49.86195756, 0.371593631, -0.584645936, 0.213052305]]\n",
            "output2:\n",
            "[[0.9626516]]\n",
            "\u001b[1m1/1\u001b[0m \u001b[32m━━━━━━━━━━━━━━━━━━━━\u001b[0m\u001b[37m\u001b[0m \u001b[1m0s\u001b[0m 20ms/step\n",
            "Predicted output: [[0.96265155]]\n",
            "Actual Output: 1\n"
          ]
        }
      ]
    },
    {
      "cell_type": "code",
      "source": [
        "\n",
        "\n",
        "def hex_to_c_array(hex_data, var_name):\n",
        "    c_str = \"\"\n",
        "    c_str += '#ifndef ' + var_name.upper() + '_H\\n'\n",
        "    c_str += \"#define \" + var_name.upper() + '_H\\n\\n'\n",
        "    c_str += \"/*\\n Author: Your Name\\n\"\n",
        "    c_str += \" This file was auto-generated for TinyML deployment on ESP32.\\n\"\n",
        "    localtime = time.asctime(time.localtime(time.time()))\n",
        "    c_str += \" Model generated on \" + localtime + '\\n*/\\n'\n",
        "    c_str += '\\nconst unsigned int ' + var_name + '_len = ' + str(len(hex_data)) + ';\\n'\n",
        "    c_str += 'alignas(8) const unsigned char ' + var_name + '[] = {'\n",
        "    hex_array = [format(val, '#04x') + ',' if i + 1 < len(hex_data) else format(val, '#04x')\n",
        "                 for i, val in enumerate(hex_data)]\n",
        "    c_str += '\\n' + ''.join(hex_array) + '\\n};\\n\\n'\n",
        "    c_str += '#endif //' + var_name.upper() + '_H'\n",
        "    return c_str\n",
        "\n",
        "# Write the TFLite model as a C array in a header file for ESP32\n",
        "with open(\"fault_detection_model_esp32.h\", 'w') as file:\n",
        "    file.write(hex_to_c_array(tflite_model, \"fault_detection_model_esp32\"))\n",
        "\n",
        "print(\"Model training, conversion, and header file generation completed successfully.\")\n"
      ],
      "metadata": {
        "colab": {
          "base_uri": "https://localhost:8080/"
        },
        "id": "9tili4O_UpDS",
        "outputId": "ebbed81c-ef8b-463f-b22e-e1c97b195499"
      },
      "execution_count": null,
      "outputs": [
        {
          "output_type": "stream",
          "name": "stdout",
          "text": [
            "Model training, conversion, and header file generation completed successfully.\n"
          ]
        }
      ]
    }
  ]
}